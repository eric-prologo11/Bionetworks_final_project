{
 "cells": [
  {
   "cell_type": "code",
   "execution_count": 1,
   "id": "4111f1a2",
   "metadata": {},
   "outputs": [],
   "source": [
    "import networkx as nx\n",
    "import numpy as np\n",
    "import matplotlib\n",
    "import matplotlib.pylab as plt\n",
    "import random as rnd\n",
    "%matplotlib inline"
   ]
  },
  {
   "cell_type": "code",
   "execution_count": 2,
   "id": "47efadf5",
   "metadata": {},
   "outputs": [],
   "source": [
    "# needs editing for number of colors\n",
    "def drawGz(G,z):\n",
    "    # DO NOT MODIFY THIS FUNCTION\n",
    "    # This function draws G with node labels from partition z\n",
    "    #\n",
    "    # input  : G is a networkx graph\n",
    "    #        : z is a dictionary of group labels for G's nodes\n",
    "    # output : a ridiculogram plot of G\n",
    "    # \n",
    "    # WARNING: function is optimistic: assumes inputs are properly formatted\n",
    "\n",
    "    colors = ['#d61111','#11c6d6','#d67711','#11d646','#1b11d6','#d611cc','#fcba03','#f4fc03', '#5afc03','#03fc88',\n",
    "              '#03fceb', '#0398fc', '#0356fc', '#3103fc', '#a103fc', '#fc03f4', '#fc036f', '#fc0314', '#fcc603', '#fc6203',\n",
    "              '#03fca1', '#03b5fc', '#a103fc', '#fca503', '#adfc03', '#fc036f', '#fc7b03', '#ffffff', '#000000'] # map node labels to colors (for the visualization)\n",
    "\n",
    "    node_colors = []\n",
    "    for i in G.nodes():\n",
    "        node_colors.append(colors[int(z[i])-1])\n",
    "    nsize  = 600\n",
    "    flabel = True\n",
    "\n",
    "    if G.order() > 50:\n",
    "        nsize  = 50\n",
    "        flabel = False\n",
    "        \n",
    "    nx.draw_networkx(G,with_labels=flabel,node_size=nsize,width=2,node_color=node_colors) # draw it pretty\n",
    "    limits=plt.axis('off')                                      # turn off axes\n",
    "    plt.show() \n",
    "\n",
    "    return"
   ]
  },
  {
   "cell_type": "code",
   "execution_count": 3,
   "id": "2f94dc9e",
   "metadata": {},
   "outputs": [
    {
     "name": "stdout",
     "output_type": "stream",
     "text": [
      "reading the network file : virus_virus_network.txt\n",
      "reading the metadata file : metadata_numbered_final.txt\n",
      "\n",
      "\n",
      " spring layout\n"
     ]
    },
    {
     "data": {
      "image/png": "[encoded data removed]",
      "text/plain": [
       "<Figure size 432x288 with 1 Axes>"
      ]
     },
     "metadata": {},
     "output_type": "display_data"
    },
    {
     "data": {
      "image/png": "[encoded data removed]",
      "text/plain": [
       "<Figure size 432x288 with 1 Axes>"
      ]
     },
     "metadata": {
      "needs_background": "light"
     },
     "output_type": "display_data"
    },
    {
     "name": "stdout",
     "output_type": "stream",
     "text": [
      "number of nodes, n  = 577\n",
      "number of edges, m  = 42475\n",
      "mean degree,    <k> = 147.23\n",
      "clustering coefficient, C     =  0.87\n",
      "mean geodesic distance, <ell> =  1.86\n"
     ]
    }
   ],
   "source": [
    "fname1 = 'virus_virus_network.txt'\n",
    "fname2 = 'metadata_numbered_final.txt'\n",
    "\n",
    "print(f'reading the network file : {fname1}')\n",
    "G = nx.read_edgelist('./' + fname1, delimiter=',', nodetype=int)\n",
    "print(f'reading the metadata file : {fname2}\\n')\n",
    "f = open('./' + fname2, 'r')\n",
    "labels = []\n",
    "for line in f:\n",
    "    labels.append(int(line.rstrip('\\n')))\n",
    "f.close()\n",
    "\n",
    "z = {}\n",
    "for i in range(0, len(labels)):\n",
    "    if(i+1 in G.nodes()):\n",
    "        z[i+1] = labels[i]\n",
    "\n",
    "#print(z)\n",
    "def compute_MGD(G):\n",
    "    # input : a networkx graph G\n",
    "    # output: the mean geodesic path length (defined in Lecture 2)\n",
    "    \n",
    "    # YOUR CODE HERE\n",
    "    shortest_path = dict(nx.all_pairs_shortest_path_length(G))\n",
    "    valid_paths = []\n",
    "    #moving accross the dictionary of shortest paths and removing all 0's and infinities/storing in a list to compute final value\n",
    "    for key in shortest_path:\n",
    "        for nested_key in shortest_path[key]:\n",
    "            tempDict = shortest_path[key]\n",
    "            #checking all the path lengths to make sure it is not 0 or infinity\n",
    "            if(tempDict[nested_key] != 0 and tempDict[nested_key] != np.inf):\n",
    "                #if it is not, add to the valid_paths list\n",
    "                valid_paths.append(tempDict[nested_key])\n",
    "    #print(shortest_path)\n",
    "    #print(valid_paths)\n",
    "    l_ij_sum = sum(valid_paths)\n",
    "    #print(l_ij_sum)\n",
    "    Z = len(valid_paths)\n",
    "    #print(Z)\n",
    "    ellm = l_ij_sum/Z\n",
    "    return ellm\n",
    "        \n",
    "n = G.order()\n",
    "m = G.size()\n",
    "\n",
    "kmean = 2*m/n\n",
    "C = nx.transitivity(G)\n",
    "ellmean = compute_MGD(G)\n",
    "\n",
    "print(f'\\n spring layout')\n",
    "drawGz(G, z)\n",
    "\n",
    "counts, bins = np.histogram(list(z.values()), bins = [1,2,3,4,5,6,7,8,9,10,11,12,13,14,15,16,17,18,19,20,21,22,23,24,25,26,27,28,29,30], density=True)\n",
    "plt.bar(bins[:-1], counts, facecolor='b', alpha=.5)\n",
    "plt.xlabel('virus family label')\n",
    "plt.ylabel('fraction of nodes')\n",
    "plt.title('virus to virus network histogram')\n",
    "plt.xlim(.5, 30.5)\n",
    "plt.show()\n",
    "\n",
    "print(f'number of nodes, n  = {n}')\n",
    "print(f'number of edges, m  = {m}')\n",
    "print(f'mean degree,    <k> = %5.2f' % kmean)\n",
    "print(f'clustering coefficient, C     = %5.2f' % C)\n",
    "print(f'mean geodesic distance, <ell> = %5.2f' % ellmean)"
   ]
  },
  {
   "cell_type": "code",
   "execution_count": 34,
   "id": "5a4f9637",
   "metadata": {},
   "outputs": [],
   "source": [
    "def predictLabel_baseline(x):\n",
    "    # input:  x, dict of observed labels\n",
    "    # output: baseline predictor, Uniform(\\vec{x}-\\emptyset)\n",
    "    \n",
    "    # YOUR CODE HERE\n",
    "    xobs = list(x.values())\n",
    "    xval = [lab for lab in xobs if lab > 0]\n",
    "    xpred = xval[int(rnd.random()*len(xval))]\n",
    "    \n",
    "    return xpred"
   ]
  },
  {
   "cell_type": "code",
   "execution_count": 50,
   "id": "efb37256",
   "metadata": {},
   "outputs": [],
   "source": [
    "def predictLabel_local_weighted(G, i, x, flag, label_tracker):\n",
    "    xnu = []\n",
    "    largest_neighbor_label_val = 0\n",
    "    largest_neighbor_label = 0\n",
    "    largest_overall_label = 0\n",
    "    neighbor_label_tracker = {}\n",
    "    \n",
    "    for j in G.neighbors(i):\n",
    "        if(x[j] > 0):\n",
    "            xnu.append(x[j])\n",
    "            if(x[j] not in neighbor_label_tracker):\n",
    "                neighbor_label_tracker[x[j]] = 1\n",
    "            else:\n",
    "                neighbor_label_tracker[x[j]] += 1\n",
    "    \n",
    "    for i in label_tracker:\n",
    "        if(label_tracker[i] > largest_overall_label):\n",
    "            largest_overall_label = label_tracker[i]\n",
    "            \n",
    "    for z in neighbor_label_tracker:\n",
    "        e_gg = neighbor_label_tracker[z]\n",
    "        a_g = e_gg / label_tracker[z]\n",
    "        temp = ((1/largest_overall_label)*(e_gg - (a_g*a_g)))\n",
    "        if(temp > largest_neighbor_label_val):\n",
    "            largest_neighbor_label_val = temp\n",
    "            largest_neighbor_label = z\n",
    "    \n",
    "    if(len(xnu) == 0):\n",
    "        xpred = predictLabel_baseline(x)\n",
    "        if(flag == 1):\n",
    "            print(f'node {i} : {x[i]} -> {xpred} (baseline)')\n",
    "    else:\n",
    "        #this is where the weighted prediction will come into play\n",
    "        #xpred = max(set(xnu), key = xnu.count)\n",
    "        xpred = largest_neighbor_label\n",
    "        if(flag == 1):\n",
    "            print(f'node {i} : {x[i]} -> {xpred} (weighted)')\n",
    "    \n",
    "    return xpred"
   ]
  },
  {
   "cell_type": "code",
   "execution_count": 51,
   "id": "0236e9bd",
   "metadata": {},
   "outputs": [],
   "source": [
    "def compute_ACC_onG(G, x, alpha):\n",
    "    xo = {}\n",
    "    #need to find the largest sized label for this iteration\n",
    "    largest_label_tracker = {}\n",
    "    largest_label = -1\n",
    "    for i in G.nodes():\n",
    "        if(x[i] not in largest_label_tracker):\n",
    "            largest_label_tracker[x[i]] = 1\n",
    "        else:\n",
    "            largest_label_tracker[x[i]] += 1\n",
    "        if(rnd.random() < alpha):\n",
    "            xo[i] = x[i]\n",
    "        else:\n",
    "            xo[i] = -1\n",
    "    xp = {}\n",
    "    for i in G.nodes():\n",
    "        if(xo[i] < 0):\n",
    "            xp[i] = predictLabel_local_weighted(G, i, xo, 0, largest_label_tracker)\n",
    "        else:\n",
    "            xp[i] = xo[i]\n",
    "            \n",
    "    c = len(np.unique(list(x.values())))\n",
    "    cmat = np.zeros([c,c])\n",
    "    \n",
    "    for i in G.nodes():\n",
    "        if(xo[i] < 0):\n",
    "            p = xp[i]\n",
    "            q = x[i]\n",
    "            cmat[p-1, q-1]+= 1\n",
    "    \n",
    "    ACC = np.trace(cmat)/np.sum(cmat)\n",
    "    \n",
    "    return ACC  "
   ]
  },
  {
   "cell_type": "code",
   "execution_count": 61,
   "id": "acc92467",
   "metadata": {},
   "outputs": [
    {
     "name": "stdout",
     "output_type": "stream",
     "text": [
      "finished alpha=0.1 | reps=200 | <ACC>=  0.132\n",
      "finished alpha=0.3 | reps=200 | <ACC>=  0.158\n",
      "finished alpha=0.5 | reps=200 | <ACC>=  0.171\n",
      "finished alpha=0.7 | reps=200 | <ACC>=  0.177\n",
      "finished alpha=0.9 | reps=200 | <ACC>=  0.184\n"
     ]
    }
   ],
   "source": [
    "nreps = 200\n",
    "alphas = [0.1, 0.3, 0.5, 0.7, 0.9]\n",
    "\n",
    "ACCm = np.empty([len(alphas), 2])\n",
    "\n",
    "for b,a in enumerate(alphas):\n",
    "    alpha = a\n",
    "    Accs = []\n",
    "    \n",
    "    for index in range(nreps):\n",
    "        ACC = compute_ACC_onG(G, z, alpha)\n",
    "        Accs.append(ACC)\n",
    "        \n",
    "    ACCm[b, 0] = alpha\n",
    "    ACCm[b, 1] = np.mean(Accs)\n",
    "    print(f'finished alpha={a} | reps={nreps} | <ACC>= %6.3f' % ACCm[b,1])"
   ]
  },
  {
   "cell_type": "code",
   "execution_count": 62,
   "id": "21cedcd9",
   "metadata": {},
   "outputs": [
    {
     "data": {
      "image/png": "[encoded data removed]",
      "text/plain": [
       "<Figure size 432x288 with 1 Axes>"
      ]
     },
     "metadata": {
      "needs_background": "light"
     },
     "output_type": "display_data"
    }
   ],
   "source": [
    "fig = plt.figure()\n",
    "ax1 = fig.add_subplot(111)\n",
    "\n",
    "plt.plot(ACCm[:,0], ACCm[:,1], 'bo-', alpha=0.5, label='virus families')\n",
    "\n",
    "plt.title('Label Prediction Accuracy')\n",
    "plt.ylabel('Accuracy, ACC')\n",
    "plt.xlabel('Fraction observed labels, alpha')\n",
    "plt.legend(loc='upper left')\n",
    "plt.show()"
   ]
  },
  {
   "cell_type": "code",
   "execution_count": null,
   "id": "59b9accd",
   "metadata": {},
   "outputs": [],
   "source": []
  }
 ],
 "metadata": {
  "kernelspec": {
   "display_name": "Python 3",
   "language": "python",
   "name": "python3"
  },
  "language_info": {
   "codemirror_mode": {
    "name": "ipython",
    "version": 3
   },
   "file_extension": ".py",
   "mimetype": "text/x-python",
   "name": "python",
   "nbconvert_exporter": "python",
   "pygments_lexer": "ipython3",
   "version": "3.7.3"
  }
 },
 "nbformat": 4,
 "nbformat_minor": 5
}
